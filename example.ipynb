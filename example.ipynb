{
 "cells": [
  {
   "cell_type": "code",
   "execution_count": 1,
   "id": "1f034542",
   "metadata": {},
   "outputs": [
    {
     "name": "stderr",
     "output_type": "stream",
     "text": [
      "\u001b[32m\u001b[1m    Updating\u001b[22m\u001b[39m registry at `~/.julia/registries/General`\n"
     ]
    },
    {
     "name": "stderr",
     "output_type": "stream",
     "text": [
      "\u001b[32m\u001b[1m    Updating\u001b[22m\u001b[39m git-repo `https://github.com/JuliaRegistries/General.git`\n"
     ]
    },
    {
     "ename": "Pkg.Types.PkgError",
     "evalue": "The following package names could not be resolved:\n * MaxStableVI (not found in project, manifest or registry)",
     "output_type": "error",
     "traceback": [
      "The following package names could not be resolved:\n",
      " * MaxStableVI (not found in project, manifest or registry)\n",
      "\n",
      "Stacktrace:\n",
      "  [1] pkgerror(msg::String)\n",
      "    @ Pkg.Types /Applications/Julia-1.8.app/Contents/Resources/julia/share/julia/stdlib/v1.8/Pkg/src/Types.jl:67\n",
      "  [2] ensure_resolved(ctx::Pkg.Types.Context, manifest::Pkg.Types.Manifest, pkgs::Vector{Pkg.Types.PackageSpec}; registry::Bool)\n",
      "    @ Pkg.Types /Applications/Julia-1.8.app/Contents/Resources/julia/share/julia/stdlib/v1.8/Pkg/src/Types.jl:952\n",
      "  [3] add(ctx::Pkg.Types.Context, pkgs::Vector{Pkg.Types.PackageSpec}; preserve::Pkg.Types.PreserveLevel, platform::Base.BinaryPlatforms.Platform, kwargs::Base.Pairs{Symbol, VSCodeServer.IJuliaCore.IJuliaStdio{Base.PipeEndpoint, typeof(VSCodeServer.io_send_callback)}, Tuple{Symbol}, NamedTuple{(:io,), Tuple{VSCodeServer.IJuliaCore.IJuliaStdio{Base.PipeEndpoint, typeof(VSCodeServer.io_send_callback)}}}})\n",
      "    @ Pkg.API /Applications/Julia-1.8.app/Contents/Resources/julia/share/julia/stdlib/v1.8/Pkg/src/API.jl:264\n",
      "  [4] add(pkgs::Vector{Pkg.Types.PackageSpec}; io::VSCodeServer.IJuliaCore.IJuliaStdio{Base.PipeEndpoint, typeof(VSCodeServer.io_send_callback)}, kwargs::Base.Pairs{Symbol, Union{}, Tuple{}, NamedTuple{(), Tuple{}}})\n",
      "    @ Pkg.API /Applications/Julia-1.8.app/Contents/Resources/julia/share/julia/stdlib/v1.8/Pkg/src/API.jl:156\n",
      "  [5] add(pkgs::Vector{Pkg.Types.PackageSpec})\n",
      "    @ Pkg.API /Applications/Julia-1.8.app/Contents/Resources/julia/share/julia/stdlib/v1.8/Pkg/src/API.jl:145\n",
      "  [6] #add#27\n",
      "    @ /Applications/Julia-1.8.app/Contents/Resources/julia/share/julia/stdlib/v1.8/Pkg/src/API.jl:144 [inlined]\n",
      "  [7] add\n",
      "    @ /Applications/Julia-1.8.app/Contents/Resources/julia/share/julia/stdlib/v1.8/Pkg/src/API.jl:144 [inlined]\n",
      "  [8] #add#26\n",
      "    @ /Applications/Julia-1.8.app/Contents/Resources/julia/share/julia/stdlib/v1.8/Pkg/src/API.jl:143 [inlined]\n",
      "  [9] add(pkg::String)\n",
      "    @ Pkg.API /Applications/Julia-1.8.app/Contents/Resources/julia/share/julia/stdlib/v1.8/Pkg/src/API.jl:143\n",
      " [10] top-level scope\n",
      "    @ ~/MaxStableVI/example.ipynb:3"
     ]
    }
   ],
   "source": [
    "import Pkg;\n",
    "#Pkg.add(url=\"https://github.com/LPAndersson/MaxStableVI.jl\")\n",
    "Pkg.add(\"MaxStableVI\")\n",
    "Pkg.add(\"Flux\")"
   ]
  },
  {
   "cell_type": "code",
   "execution_count": 3,
   "id": "fc51ff4c",
   "metadata": {},
   "outputs": [],
   "source": [
    "using MaxStableVI\n",
    "using Flux"
   ]
  },
  {
   "cell_type": "markdown",
   "id": "7d871bc5",
   "metadata": {},
   "source": [
    "Generate test data"
   ]
  },
  {
   "cell_type": "code",
   "execution_count": 6,
   "id": "1a020430",
   "metadata": {},
   "outputs": [],
   "source": [
    "coordinates = rand(10,2) #Not used for logistic model\n",
    "observations = sample(\n",
    "    BrownResnickModel(0.5, 0.5), \n",
    "    coordinates = coordinates, \n",
    "    n = 10\n",
    "    )\n",
    "data = [observations, coordinates];"
   ]
  },
  {
   "cell_type": "markdown",
   "id": "9cd4ca84",
   "metadata": {},
   "source": [
    "Create a guide distribution"
   ]
  },
  {
   "cell_type": "code",
   "execution_count": 23,
   "id": "8e82ebb9",
   "metadata": {},
   "outputs": [
    {
     "data": {
      "text/plain": [
       "RestaurantProcess([0.5], [0.5], [0.5])"
      ]
     },
     "execution_count": 23,
     "metadata": {},
     "output_type": "execute_result"
    }
   ],
   "source": [
    "guide = RestaurantProcess(0.5, 0.5, 0.5)"
   ]
  },
  {
   "cell_type": "code",
   "execution_count": 24,
   "id": "e15e2ba8",
   "metadata": {},
   "outputs": [
    {
     "data": {
      "text/plain": [
       "Momentum(0.0001, 0.9, IdDict{Any, Any}())"
      ]
     },
     "execution_count": 24,
     "metadata": {},
     "output_type": "execute_result"
    }
   ],
   "source": [
    "guideOptimiser = Flux.Descent(1e-5)\n",
    "modelOptimiser = Flux.Momentum(1e-4,0.9)"
   ]
  },
  {
   "cell_type": "code",
   "execution_count": 25,
   "id": "86fc3851",
   "metadata": {},
   "outputs": [
    {
     "data": {
      "text/plain": [
       "BrownResnickModel([0.7], [0.7])"
      ]
     },
     "execution_count": 25,
     "metadata": {},
     "output_type": "execute_result"
    }
   ],
   "source": [
    "model = BrownResnickModel(0.7,0.7)"
   ]
  },
  {
   "cell_type": "code",
   "execution_count": 26,
   "id": "21b757cb",
   "metadata": {},
   "outputs": [
    {
     "name": "stdout",
     "output_type": "stream",
     "text": [
      "Epoch 1/100\n",
      "Epoch 2/100\n",
      "Epoch 3/100\n",
      "Epoch 4/100\n",
      "Epoch 5/100\n",
      "Epoch 6/100\n",
      "Epoch 7/100\n",
      "Epoch 8/100\n",
      "Epoch 9/100\n",
      "Epoch 10/100\n",
      "Epoch 11/100\n",
      "Epoch 12/100\n",
      "Epoch 13/100\n",
      "Epoch 14/100\n",
      "Epoch 15/100\n",
      "Epoch 16/100\n",
      "Epoch 17/100\n",
      "Epoch 18/100\n",
      "Epoch 19/100\n",
      "Epoch 20/100\n",
      "Epoch 21/100\n",
      "Epoch 22/100\n",
      "Epoch 23/100\n",
      "Epoch 24/100\n",
      "Epoch 25/100\n",
      "Epoch 26/100\n",
      "Epoch 27/100\n",
      "Epoch 28/100\n",
      "Epoch 29/100\n",
      "Epoch 30/100\n",
      "Epoch 31/100\n",
      "Epoch 32/100\n",
      "Epoch 33/100\n",
      "Epoch 34/100\n",
      "Epoch 35/100\n",
      "Epoch 36/100\n",
      "Epoch 37/100\n",
      "Epoch 38/100\n",
      "Epoch 39/100\n",
      "Epoch 40/100\n",
      "Epoch 41/100\n",
      "Epoch 42/100\n",
      "Epoch 43/100\n",
      "Epoch 44/100\n",
      "Epoch 45/100\n",
      "Epoch 46/100\n",
      "Epoch 47/100\n",
      "Epoch 48/100\n",
      "Epoch 49/100\n",
      "Epoch 50/100\n",
      "Epoch 51/100\n",
      "Epoch 52/100\n",
      "Epoch 53/100\n",
      "Epoch 54/100\n",
      "Epoch 55/100\n",
      "Epoch 56/100\n",
      "Epoch 57/100\n",
      "Epoch 58/100\n",
      "Epoch 59/100\n",
      "Epoch 60/100\n",
      "Epoch 61/100\n",
      "Epoch 62/100\n",
      "Epoch 63/100\n",
      "Epoch 64/100\n",
      "Epoch 65/100\n",
      "Epoch 66/100\n",
      "Epoch 67/100\n",
      "Epoch 68/100\n",
      "Epoch 69/100\n",
      "Epoch 70/100\n",
      "Epoch 71/100\n",
      "Epoch 72/100\n",
      "Epoch 73/100\n",
      "Epoch 74/100\n",
      "Epoch 75/100\n",
      "Epoch 76/100\n",
      "Epoch 77/100\n",
      "Epoch 78/100\n",
      "Epoch 79/100\n",
      "Epoch 80/100\n",
      "Epoch 81/100\n",
      "Epoch 82/100\n",
      "Epoch 83/100\n",
      "Epoch 84/100\n",
      "Epoch 85/100\n",
      "Epoch 86/100\n",
      "Epoch 87/100\n",
      "Epoch 88/100\n",
      "Epoch 89/100\n",
      "Epoch 90/100\n",
      "Epoch 91/100\n",
      "Epoch 92/100\n",
      "Epoch 93/100\n",
      "Epoch 94/100\n",
      "Epoch 95/100\n",
      "Epoch 96/100\n",
      "Epoch 97/100\n",
      "Epoch 98/100\n",
      "Epoch 99/100\n",
      "Epoch 100/100\n"
     ]
    },
    {
     "data": {
      "text/plain": [
       "Dict{String, Vector} with 3 entries:\n",
       "  \"elbo\"  => [-248.249, -226.413, -221.467, -219.877, -229.195, -227.377, -216.…\n",
       "  \"model\" => [[0.683415, 0.668986], [0.664293, 0.622922], [0.64832, 0.582299], …\n",
       "  \"guide\" => [[0.462231, 0.492967, 0.487131], [0.452726, 0.491359, 0.48527], [0…"
      ]
     },
     "execution_count": 26,
     "metadata": {},
     "output_type": "execute_result"
    }
   ],
   "source": [
    "fit = train!(model, guide, data; \n",
    "            epochs = 100, \n",
    "            numSamplesIn = 4,\n",
    "            guideopt = guideOptimiser,\n",
    "            modelopt = modelOptimiser\n",
    "            )"
   ]
  },
  {
   "cell_type": "code",
   "execution_count": 22,
   "id": "36bb7898",
   "metadata": {},
   "outputs": [
    {
     "data": {
      "text/plain": [
       "100-element Vector{Vector{Float64}}:\n",
       " [0.0, 0.32842228607859125, 0.7428322324337285]\n",
       " [0.10818120302629831, 0.34942174520339225, 0.7706457127179785]\n",
       " [0.4827984910408486, 0.5917055544952808, 0.6833438681443222]\n",
       " [0.4462548803018957, 0.554523818962528, 0.621466501970302]\n",
       " [0.99, 0.6648598116345886, 0.6858069004525976]\n",
       " [0.99, 0.7244828862961237, 0.7066464985999426]\n",
       " [0.4799311051994033, 0.6777790810330085, 0.6709149602958543]\n",
       " [0.2642165567359508, 0.6499141862328986, 0.57071737481961]\n",
       " [0.11589032593790943, 0.66860460808172, 0.6886767588234877]\n",
       " [0.06366363700605421, 0.6539124062373414, 0.6302068477030808]\n",
       " [0.09387706335033624, 0.6277314842656432, 0.7712280239548391]\n",
       " [0.2103296944091077, 0.6682704774070743, 0.667167783728778]\n",
       " [0.4730649622100306, 0.6823527113448257, 0.6894302117612179]\n",
       " ⋮\n",
       " [0.04151389346877374, 0.6606874108385656, 0.8872288049756736]\n",
       " [0.0, 0.413601726822015, 0.8163729794756427]\n",
       " [0.05182911411770473, 0.4080045988143688, 0.8852083703887265]\n",
       " [0.20353953113902748, 0.28025235084412214, 0.8655077153643173]\n",
       " [0.7365770419147569, 0.4648707695298654, 0.8077927254367457]\n",
       " [0.8144422767362418, 0.4992576800979698, 0.7923672371456484]\n",
       " [0.1106655831397485, 0.599489239626984, 0.7919569961215537]\n",
       " [0.6823380091818301, 0.5927712728201953, 0.8481022988399728]\n",
       " [0.13277075244277406, 0.36969451231046035, 0.91949314645238]\n",
       " [0.20967041812470533, 0.4422733695551247, 0.9307432780700359]\n",
       " [0.1453434690812254, 0.3330315808635742, 0.9979299083097718]\n",
       " [0.06984125523385859, 0.32048451373600795, 1.02365959361801]"
      ]
     },
     "execution_count": 22,
     "metadata": {},
     "output_type": "execute_result"
    }
   ],
   "source": [
    "fit[\"guide\"]"
   ]
  },
  {
   "cell_type": "code",
   "execution_count": null,
   "id": "85bca5b1",
   "metadata": {},
   "outputs": [],
   "source": []
  }
 ],
 "metadata": {
  "kernelspec": {
   "display_name": "Julia 1.8.2",
   "language": "julia",
   "name": "julia-1.8"
  },
  "language_info": {
   "file_extension": ".jl",
   "mimetype": "application/julia",
   "name": "julia",
   "version": "1.8.2"
  }
 },
 "nbformat": 4,
 "nbformat_minor": 5
}
